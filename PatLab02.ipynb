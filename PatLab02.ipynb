{
  "nbformat": 4,
  "nbformat_minor": 0,
  "metadata": {
    "colab": {
      "name": "PatLab02.ipynb",
      "provenance": [],
      "collapsed_sections": [],
      "include_colab_link": true
    },
    "kernelspec": {
      "name": "python3",
      "display_name": "Python 3"
    }
  },
  "cells": [
    {
      "cell_type": "markdown",
      "metadata": {
        "id": "view-in-github",
        "colab_type": "text"
      },
      "source": [
        "<a href=\"https://colab.research.google.com/github/abirahsan007/PatternLab/blob/main/PatLab02.ipynb\" target=\"_parent\"><img src=\"https://colab.research.google.com/assets/colab-badge.svg\" alt=\"Open In Colab\"/></a>"
      ]
    },
    {
      "cell_type": "code",
      "metadata": {
        "id": "bCXIbOTXy1o6"
      },
      "source": [
        "import pandas as pd\r\n",
        "import numpy as np\r\n"
      ],
      "execution_count": 7,
      "outputs": []
    },
    {
      "cell_type": "code",
      "metadata": {
        "colab": {
          "base_uri": "https://localhost:8080/"
        },
        "id": "1utJ-zMiy4L2",
        "outputId": "04676e48-f314-4b6f-d39c-300a8559ef06"
      },
      "source": [
        "from google.colab import drive\r\n",
        "drive.mount('/content/gdrive', force_remount=True)"
      ],
      "execution_count": 8,
      "outputs": [
        {
          "output_type": "stream",
          "text": [
            "Mounted at /content/gdrive\n"
          ],
          "name": "stdout"
        }
      ]
    },
    {
      "cell_type": "code",
      "metadata": {
        "colab": {
          "base_uri": "https://localhost:8080/"
        },
        "id": "cX2nY427y-HO",
        "outputId": "04ba5259-3296-4539-88cd-81ade3252af7"
      },
      "source": [
        "%cd /content/gdrive/MyDrive/pattern lab files/Dataset\r\n",
        "%ls"
      ],
      "execution_count": 9,
      "outputs": [
        {
          "output_type": "stream",
          "text": [
            "/content/gdrive/MyDrive/pattern lab files/Dataset\n",
            "\u001b[0m\u001b[01;34m'csv files'\u001b[0m/    \u001b[01;34m'final datas'\u001b[0m/    \u001b[01;34mnumpys\u001b[0m/\n",
            "\u001b[01;34m'fasta files'\u001b[0m/   \u001b[01;34miLearn-master\u001b[0m/  \u001b[01;34m'special fasta'\u001b[0m/\n"
          ],
          "name": "stdout"
        }
      ]
    },
    {
      "cell_type": "code",
      "metadata": {
        "id": "DUg5zsVAzQ5R"
      },
      "source": [
        "files = ['NC_test', 'NC_train', 'PC_test', 'PC_train']\r\n",
        "features = ['(binary)', '(CKSNAP1)', '(CKSNAP3)', '(CKSNAP5)', '(CKSNAP7)', '(CKSNAP9)', '(DAC7)', '(EIIP)', '(ENAC5)','(ENAC10)','(kmer1)','(kmer2)', '(kmer3)', '(kmer4)', '(kmer5)', '(NCP)', '(PseEIIP)','(TAC7)']\r\n",
        "# '(TAC5)', '(TAC6)',, '(DAC5)','(DAC6)'\r\n",
        "\r\n",
        "for file in files:\r\n",
        "  for feature in features:\r\n",
        "    df = pd.read_csv(f'/content/gdrive/MyDrive/pattern lab files/Dataset/csv files/{file}{feature}.csv', header=None)\r\n",
        "    df.drop(df.columns[[0]], axis=1, inplace=True)\r\n",
        "    data = df.to_numpy()\r\n",
        "    np.save(f'/content/gdrive/MyDrive/pattern lab files/Dataset/numpys/{file}_{feature}.npy', data)"
      ],
      "execution_count": 10,
      "outputs": []
    },
    {
      "cell_type": "code",
      "metadata": {
        "colab": {
          "base_uri": "https://localhost:8080/"
        },
        "id": "aNfkLAAp6Fhq",
        "outputId": "9b5054e8-c03d-48a2-fbb7-2267b3b5b5b1"
      },
      "source": [
        "till = -1\r\n",
        "index_dict = {}\r\n",
        "for feature in features:\r\n",
        "  data = np.load(f'/content/gdrive/MyDrive/pattern lab files/Dataset/numpys/NC_test_{feature}.npy')\r\n",
        "  index_dict[f'{feature}'] = [till+1 , till + data.shape[1]]\r\n",
        "  till = till + (data.shape[1])\r\n",
        "\r\n",
        "print(index_dict)"
      ],
      "execution_count": 21,
      "outputs": [
        {
          "output_type": "stream",
          "text": [
            "{'(binary)': [0, 819], '(CKSNAP1)': [820, 851], '(CKSNAP3)': [852, 915], '(CKSNAP5)': [916, 1011], '(CKSNAP7)': [1012, 1139], '(CKSNAP9)': [1140, 1299], '(DAC7)': [1300, 1341], '(EIIP)': [1342, 1382], '(ENAC5)': [1383, 1530], '(ENAC10)': [1531, 1658], '(kmer1)': [1659, 1662], '(kmer2)': [1663, 1678], '(kmer3)': [1679, 1742], '(kmer4)': [1743, 1998], '(kmer5)': [1999, 3022], '(NCP)': [3023, 3145], '(PseEIIP)': [3146, 3209], '(TAC7)': [3210, 3223]}\n"
          ],
          "name": "stdout"
        }
      ]
    },
    {
      "cell_type": "code",
      "metadata": {
        "colab": {
          "base_uri": "https://localhost:8080/"
        },
        "id": "Rhz5zEp5FAGQ",
        "outputId": "7a08cce1-1eb3-4559-85e7-540ec618719e"
      },
      "source": [
        "import pickle\r\n",
        "\r\n",
        "with open('index_dict.pickle', 'wb') as handle:\r\n",
        "    pickle.dump(index_dict, handle, protocol=pickle.HIGHEST_PROTOCOL)\r\n",
        "\r\n",
        "# Load data (deserialize)\r\n",
        "with open('index_dict.pickle', 'rb') as handle:\r\n",
        "    unserialized_data = pickle.load(handle)\r\n",
        "print(unserialized_data)"
      ],
      "execution_count": 22,
      "outputs": [
        {
          "output_type": "stream",
          "text": [
            "{'(binary)': [0, 819], '(CKSNAP1)': [820, 851], '(CKSNAP3)': [852, 915], '(CKSNAP5)': [916, 1011], '(CKSNAP7)': [1012, 1139], '(CKSNAP9)': [1140, 1299], '(DAC7)': [1300, 1341], '(EIIP)': [1342, 1382], '(ENAC5)': [1383, 1530], '(ENAC10)': [1531, 1658], '(kmer1)': [1659, 1662], '(kmer2)': [1663, 1678], '(kmer3)': [1679, 1742], '(kmer4)': [1743, 1998], '(kmer5)': [1999, 3022], '(NCP)': [3023, 3145], '(PseEIIP)': [3146, 3209], '(TAC7)': [3210, 3223]}\n"
          ],
          "name": "stdout"
        }
      ]
    },
    {
      "cell_type": "code",
      "metadata": {
        "id": "eDpjho3iFLjn"
      },
      "source": [
        "for file in files:\r\n",
        "  narr = np.concatenate([np.load(f'/content/gdrive/MyDrive/pattern lab files/Dataset/numpys/{file}_{feature}.npy') for feature in features], axis=1)\r\n",
        "  np.save(f'{file}_all.npy', narr)"
      ],
      "execution_count": 23,
      "outputs": []
    },
    {
      "cell_type": "code",
      "metadata": {
        "id": "C1OrV2BOHP5o"
      },
      "source": [
        "Xtrain = np.concatenate([np.load('PC_train_all.npy'), np.load('NC_train_all.npy')], axis = 0)\r\n",
        "Xtest = np.concatenate([np.load('PC_test_all.npy'), np.load('NC_test_all.npy')], axis = 0)\r\n",
        "np.save('final datas/Xtrain.npy', Xtrain)\r\n",
        "np.save('final datas/Xtest.npy', Xtest)"
      ],
      "execution_count": 24,
      "outputs": []
    },
    {
      "cell_type": "code",
      "metadata": {
        "colab": {
          "base_uri": "https://localhost:8080/"
        },
        "id": "_3cO7U0HY4zY",
        "outputId": "44077392-ed47-4ba4-c53a-ba570fbb4504"
      },
      "source": [
        "print(Xtest.shape)"
      ],
      "execution_count": 26,
      "outputs": [
        {
          "output_type": "stream",
          "text": [
            "(208, 3224)\n"
          ],
          "name": "stdout"
        }
      ]
    },
    {
      "cell_type": "code",
      "metadata": {
        "id": "a2faAEgyIgDa"
      },
      "source": [
        "Ytrain = np.concatenate([np.ones(shape=(1450)), np.zeros(shape=(1450))], axis = 0)\r\n",
        "Ytest = np.concatenate([np.ones(shape=(104)), np.zeros(shape=(104))], axis = 0)\r\n",
        "\r\n",
        "np.save('final datas/Ytrain.npy', Ytrain)\r\n",
        "np.save('final datas/Ytest.npy', Ytest)"
      ],
      "execution_count": 29,
      "outputs": []
    }
  ]
}