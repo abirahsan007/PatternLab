{
  "nbformat": 4,
  "nbformat_minor": 0,
  "metadata": {
    "colab": {
      "name": "PatLab01.ipynb",
      "provenance": [],
      "collapsed_sections": [],
      "include_colab_link": true
    },
    "kernelspec": {
      "name": "python3",
      "display_name": "Python 3"
    }
  },
  "cells": [
    {
      "cell_type": "markdown",
      "metadata": {
        "id": "view-in-github",
        "colab_type": "text"
      },
      "source": [
        "<a href=\"https://colab.research.google.com/github/abirahsan007/PatternLab/blob/main/PatLab01.ipynb\" target=\"_parent\"><img src=\"https://colab.research.google.com/assets/colab-badge.svg\" alt=\"Open In Colab\"/></a>"
      ]
    },
    {
      "cell_type": "code",
      "metadata": {
        "colab": {
          "base_uri": "https://localhost:8080/"
        },
        "id": "VHKSGhKrC873",
        "outputId": "c7ede898-365e-4fc6-eebc-22646fee730c"
      },
      "source": [
        "from google.colab import drive\r\n",
        "drive.mount('/content/gdrive')"
      ],
      "execution_count": 1,
      "outputs": [
        {
          "output_type": "stream",
          "text": [
            "Mounted at /content/gdrive\n"
          ],
          "name": "stdout"
        }
      ]
    },
    {
      "cell_type": "code",
      "metadata": {
        "colab": {
          "base_uri": "https://localhost:8080/"
        },
        "id": "cAtRQc00DDDu",
        "outputId": "da3e5683-fa71-4e5c-fe81-66b790053d7f"
      },
      "source": [
        "!pip install biopython"
      ],
      "execution_count": 2,
      "outputs": [
        {
          "output_type": "stream",
          "text": [
            "Collecting biopython\n",
            "\u001b[?25l  Downloading https://files.pythonhosted.org/packages/76/02/8b606c4aa92ff61b5eda71d23b499ab1de57d5e818be33f77b01a6f435a8/biopython-1.78-cp36-cp36m-manylinux1_x86_64.whl (2.3MB)\n",
            "\u001b[K     |████████████████████████████████| 2.3MB 6.2MB/s \n",
            "\u001b[?25hRequirement already satisfied: numpy in /usr/local/lib/python3.6/dist-packages (from biopython) (1.19.4)\n",
            "Installing collected packages: biopython\n",
            "Successfully installed biopython-1.78\n"
          ],
          "name": "stdout"
        }
      ]
    },
    {
      "cell_type": "code",
      "metadata": {
        "colab": {
          "base_uri": "https://localhost:8080/"
        },
        "id": "RUkcU7tdF5y4",
        "outputId": "d03cf229-667f-4738-d902-063618dec000"
      },
      "source": [
        "%cd /content/gdrive/MyDrive/pattern lab files/Dataset/fasta files\r\n",
        "%ls\r\n"
      ],
      "execution_count": 4,
      "outputs": [
        {
          "output_type": "stream",
          "text": [
            "/content/gdrive/MyDrive/pattern lab files/Dataset/fasta files\n",
            "NC_test.fasta  NC_train.fasta  PC_test.fasta  PC_train.fasta\n"
          ],
          "name": "stdout"
        }
      ]
    },
    {
      "cell_type": "code",
      "metadata": {
        "id": "aB31IUWXDZAY"
      },
      "source": [
        "\r\n",
        "# from Bio import  SeqIO\r\n",
        "\r\n",
        "# fasta_files = ['NC_test', 'NC_train','PC_train', 'PC_test']\r\n",
        "\r\n",
        "\r\n",
        "# def text_to_fasta(filename):\r\n",
        "\r\n",
        "#   path = f'{filename}.fasta'\r\n",
        "#   outputpath = f'../special fasta/{filename}special.txt'\r\n",
        "#   outputfile = open(outputpath, \"w\")\r\n",
        "#   label = '1'\r\n",
        "#   mode = 'training'\r\n",
        "#   if filename[0] == 'N':\r\n",
        "#     label = '0'\r\n",
        "#   if 'test' in filename:\r\n",
        "#     mode = 'testing'\r\n",
        "\r\n",
        "#   for Seq_record in SeqIO.parse(path, 'fasta'):\r\n",
        "#     id = Seq_record.id + '|' + label + '|' + mode\r\n",
        "#     sequence = str(Seq_record.seq)\r\n",
        "#     outputfile.write('>' + id + '\\n' + sequence + '\\n')\r\n",
        "#   outputfile.close()\r\n",
        "\r\n",
        "# for _file in fasta_files:\r\n",
        "#   text_to_fasta(_file)"
      ],
      "execution_count": 5,
      "outputs": []
    },
    {
      "cell_type": "code",
      "metadata": {
        "colab": {
          "base_uri": "https://localhost:8080/"
        },
        "id": "r-egrEfJI1A0",
        "outputId": "20bbee4b-e9e5-434a-e90d-53dc7535a98f"
      },
      "source": [
        "%cd /content/gdrive/MyDrive/pattern lab files/Dataset/iLearn-master"
      ],
      "execution_count": 6,
      "outputs": [
        {
          "output_type": "stream",
          "text": [
            "/content/gdrive/MyDrive/pattern lab files/Dataset/iLearn-master\n"
          ],
          "name": "stdout"
        }
      ]
    },
    {
      "cell_type": "code",
      "metadata": {
        "id": "GWDFcWpdpMDA"
      },
      "source": [
        "!python descnucleotide/Kmer.py --file '/content/gdrive/MyDrive/pattern lab files/Dataset/special fasta/NC_testspecial.txt' --kmer 1 --normalize --format csv --out '/content/gdrive/MyDrive/pattern lab files/Dataset/csv files/NC_test(kmer1).csv'"
      ],
      "execution_count": null,
      "outputs": []
    },
    {
      "cell_type": "code",
      "metadata": {
        "id": "4qy7V63Xo3LF"
      },
      "source": [
        "!python iLearn-nucleotide-basic.py --file '/content/gdrive/MyDrive/pattern lab files/Dataset/special fasta/NC_testspecial.txt' --method NCP --format csv --out '/content/gdrive/MyDrive/pattern lab files/Dataset/csv files/NC_test(NCP).csv'"
      ],
      "execution_count": null,
      "outputs": []
    },
    {
      "cell_type": "code",
      "metadata": {
        "id": "jhwPdDuPFXPC",
        "colab": {
          "base_uri": "https://localhost:8080/"
        },
        "outputId": "a9801539-f455-4de1-e90f-b33cb5f00728"
      },
      "source": [
        "!python iLearn-nucleotide-basic.py --file '/content/gdrive/MyDrive/pattern lab files/Dataset/special fasta/NC_trainspecial.txt' --method PseEIIP --format csv --out '/content/gdrive/MyDrive/pattern lab files/Dataset/csv files/NC_train(PseEIIP).csv'"
      ],
      "execution_count": 34,
      "outputs": [
        {
          "output_type": "stream",
          "text": [
            "Descriptor method: PseEIIP\n"
          ],
          "name": "stdout"
        }
      ]
    },
    {
      "cell_type": "code",
      "metadata": {
        "colab": {
          "base_uri": "https://localhost:8080/"
        },
        "id": "AMRvky8CbZ36",
        "outputId": "c7b6c6a0-f3ac-4e81-f5ef-3e4466a5aabb"
      },
      "source": [
        "!python iLearn-protein-basic.py --file '/content/gdrive/MyDrive/pattern lab files/Dataset/special fasta/NC_trainspecial.txt'  --method binary --format csv --out '/content/gdrive/MyDrive/pattern lab files/Dataset/csv files/NC_train(binary).csv'"
      ],
      "execution_count": 38,
      "outputs": [
        {
          "output_type": "stream",
          "text": [
            "Descriptor type: binary\n"
          ],
          "name": "stdout"
        }
      ]
    },
    {
      "cell_type": "code",
      "metadata": {
        "id": "ygtuKwyylhFz"
      },
      "source": [
        "!python descnucleotide/CKSNAP.py --file '/content/gdrive/MyDrive/pattern lab files/Dataset/special fasta/NC_trainspecial.txt'  --gap 1 --format csv --out '/content/gdrive/MyDrive/pattern lab files/Dataset/csv files/NC_train(CKSNAP1).csv'"
      ],
      "execution_count": 58,
      "outputs": []
    },
    {
      "cell_type": "code",
      "metadata": {
        "colab": {
          "base_uri": "https://localhost:8080/"
        },
        "id": "RiZgvwYon6lD",
        "outputId": "aa0b513c-c9b7-49ce-e7c0-095441dd519a"
      },
      "source": [
        "!python iLearn-nucleotide-basic.py --file '/content/gdrive/MyDrive/pattern lab files/Dataset/special fasta/NC_trainspecial.txt'  --method EIIP --format csv --out '/content/gdrive/MyDrive/pattern lab files/Dataset/csv files/NC_train(EIIP).csv'"
      ],
      "execution_count": 62,
      "outputs": [
        {
          "output_type": "stream",
          "text": [
            "Descriptor method: EIIP\n"
          ],
          "name": "stdout"
        }
      ]
    },
    {
      "cell_type": "code",
      "metadata": {
        "id": "Q3SgyS4Uqfep"
      },
      "source": [
        "!python iLearn-nucleotide-acc.py --file '/content/gdrive/MyDrive/pattern lab files/Dataset/special fasta/NC_trainspecial.txt' --method DAC --type DNA --lag 7 --format csv --out '/content/gdrive/MyDrive/pattern lab files/Dataset/csv files/NC_train(DAC7).csv'"
      ],
      "execution_count": 66,
      "outputs": []
    },
    {
      "cell_type": "code",
      "metadata": {
        "id": "IlRemlkdys7f"
      },
      "source": [
        "!python descnucleotide/ENAC.py --file '/content/gdrive/MyDrive/pattern lab files/Dataset/special fasta/NC_trainspecial.txt' --slwindow 10 --format csv --out '/content/gdrive/MyDrive/pattern lab files/Dataset/csv files/NC_train(ENAC10).csv'"
      ],
      "execution_count": 71,
      "outputs": []
    },
    {
      "cell_type": "code",
      "metadata": {
        "id": "1WTlDhX4z5PA"
      },
      "source": [
        "!python descnucleotide/ENAC.py --file '/content/gdrive/MyDrive/pattern lab files/Dataset/special fasta/NC_trainspecial.txt' --slwindow 5 --format csv --out '/content/gdrive/MyDrive/pattern lab files/Dataset/csv files/NC_train(ENAC5).csv'"
      ],
      "execution_count": 75,
      "outputs": []
    },
    {
      "cell_type": "code",
      "metadata": {
        "id": "KMqaXPqI0rrK"
      },
      "source": [
        "!python iLearn-nucleotide-acc.py --file '/content/gdrive/MyDrive/pattern lab files/Dataset/special fasta/NC_trainspecial.txt' --method TAC --type DNA --lag 7 --format csv --out '/content/gdrive/MyDrive/pattern lab files/Dataset/csv files/NC_train(TAC7).csv'"
      ],
      "execution_count": 79,
      "outputs": []
    }
  ]
}